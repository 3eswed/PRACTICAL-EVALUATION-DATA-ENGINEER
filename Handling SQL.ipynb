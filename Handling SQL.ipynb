{
 "cells": [
  {
   "cell_type": "markdown",
   "metadata": {},
   "source": [
    "Handling SQL"
   ]
  },
  {
   "cell_type": "code",
   "execution_count": 1,
   "metadata": {},
   "outputs": [],
   "source": [
    "import sqlite3\n",
    "import pandas as pd"
   ]
  },
  {
   "cell_type": "markdown",
   "metadata": {},
   "source": [
    "Step 1: Connect to the database and Read the table into a DataFrame"
   ]
  },
  {
   "cell_type": "code",
   "execution_count": 2,
   "metadata": {},
   "outputs": [],
   "source": [
    "db_path = \"/Users/naseralausud/Desktop/Data Engineer/acs-1-year-2015.sqlite\"\n",
    "conn = sqlite3.connect(db_path)\n",
    "\n",
    "df = pd.read_sql_query('SELECT * FROM congressional_districts', conn)\n",
    "\n",
    "conn.close()"
   ]
  },
  {
   "cell_type": "markdown",
   "metadata": {},
   "source": [
    "Step 2: Filter the DataFrame based on the district name and year"
   ]
  },
  {
   "cell_type": "code",
   "execution_count": 3,
   "metadata": {},
   "outputs": [],
   "source": [
    "district_name = \"Congressional District 2 (114th Congress), Arkansas\"\n",
    "year = 2015\n",
    "filtered_df = df[(df['name'] == district_name) & (df['year'] == year)]"
   ]
  },
  {
   "cell_type": "markdown",
   "metadata": {},
   "source": [
    "Step 3: Retrieve the total population of Hispanic for the filtered district and year"
   ]
  },
  {
   "cell_type": "code",
   "execution_count": 4,
   "metadata": {},
   "outputs": [
    {
     "name": "stdout",
     "output_type": "stream",
     "text": [
      "Total Hispanic population in Congressional District 2 (114th Congress), Arkansas for the year 2015: 38273\n"
     ]
    }
   ],
   "source": [
    "total_hispanic_population = filtered_df['hispanic'].values[0]\n",
    "print(\"Total Hispanic population in {} for the year {}: {}\".format(district_name, year, total_hispanic_population))"
   ]
  },
  {
   "cell_type": "markdown",
   "metadata": {},
   "source": [
    "Step 4: Find the minimum and maximum median household income"
   ]
  },
  {
   "cell_type": "code",
   "execution_count": 5,
   "metadata": {},
   "outputs": [
    {
     "name": "stdout",
     "output_type": "stream",
     "text": [
      "Minimum Median Household Income: 18626\n",
      "Maximum Median Household Income: 120089\n"
     ]
    }
   ],
   "source": [
    "min_median_income = df['median_household_income'].min()\n",
    "max_median_income = df['median_household_income'].max()\n",
    "\n",
    "print(\"Minimum Median Household Income: {}\".format(min_median_income))\n",
    "print(\"Maximum Median Household Income: {}\".format(max_median_income))"
   ]
  }
 ],
 "metadata": {
  "kernelspec": {
   "display_name": "Python 3",
   "language": "python",
   "name": "python3"
  },
  "language_info": {
   "codemirror_mode": {
    "name": "ipython",
    "version": 3
   },
   "file_extension": ".py",
   "mimetype": "text/x-python",
   "name": "python",
   "nbconvert_exporter": "python",
   "pygments_lexer": "ipython3",
   "version": "3.9.6"
  },
  "orig_nbformat": 4
 },
 "nbformat": 4,
 "nbformat_minor": 2
}
