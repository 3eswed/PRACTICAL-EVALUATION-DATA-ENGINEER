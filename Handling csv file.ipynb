{
 "cells": [
  {
   "cell_type": "markdown",
   "metadata": {},
   "source": [
    "Handling csv file"
   ]
  },
  {
   "cell_type": "code",
   "execution_count": 1,
   "metadata": {},
   "outputs": [],
   "source": [
    "import pandas as pd "
   ]
  },
  {
   "cell_type": "markdown",
   "metadata": {},
   "source": [
    "Step 1: Import the CSV file"
   ]
  },
  {
   "cell_type": "code",
   "execution_count": 2,
   "metadata": {},
   "outputs": [],
   "source": [
    "file_path = \"/Users/naseralausud/Desktop/Data Engineer/meat_consumption.csv\"\n",
    "df = pd.read_csv(file_path)"
   ]
  },
  {
   "cell_type": "markdown",
   "metadata": {},
   "source": [
    "Step 2: Get the total consumption grouped by year and meat type"
   ]
  },
  {
   "cell_type": "code",
   "execution_count": 3,
   "metadata": {},
   "outputs": [
    {
     "name": "stdout",
     "output_type": "stream",
     "text": [
      "     TIME  SUBJECT          Value\n",
      "0    1990     BEEF   94753.020588\n",
      "1    1990      PIG  120269.782376\n",
      "2    1990  POULTRY   68912.751302\n",
      "3    1990    SHEEP   15400.153056\n",
      "4    1991     BEEF   99303.612157\n",
      "..    ...      ...            ...\n",
      "151  2027    SHEEP   37762.877151\n",
      "152  2028     BEEF  192673.927377\n",
      "153  2028      PIG  359937.775995\n",
      "154  2028  POULTRY  356972.531047\n",
      "155  2028    SHEEP   38204.804641\n",
      "\n",
      "[156 rows x 3 columns]\n"
     ]
    }
   ],
   "source": [
    "\n",
    "total_consumption_grouped = df.groupby(['TIME', 'SUBJECT'])['Value'].sum().reset_index()\n",
    "print(total_consumption_grouped)"
   ]
  },
  {
   "cell_type": "markdown",
   "metadata": {},
   "source": [
    "Step 3: Get the year with less consumption for the country China (CHN) and meat type PIG"
   ]
  },
  {
   "cell_type": "code",
   "execution_count": 4,
   "metadata": {},
   "outputs": [
    {
     "name": "stdout",
     "output_type": "stream",
     "text": [
      "Year with less consumption for China (CHN) and meat type PIG: 1990\n"
     ]
    }
   ],
   "source": [
    "china_pig_min_consumption = df[(df['LOCATION'] == 'CHN') & (df['SUBJECT'] == 'PIG')]['Value'].idxmin()\n",
    "year_with_min_consumption = df.loc[china_pig_min_consumption, 'TIME']\n",
    "print(\"Year with less consumption for China (CHN) and meat type PIG:\", year_with_min_consumption)\n"
   ]
  },
  {
   "cell_type": "markdown",
   "metadata": {},
   "source": [
    "Step 4: Get the country with max total consumption of SHEEP meat between the years 1998 and 2022"
   ]
  },
  {
   "cell_type": "code",
   "execution_count": 5,
   "metadata": {},
   "outputs": [
    {
     "name": "stdout",
     "output_type": "stream",
     "text": [
      "Country with max total consumption of SHEEP meat between 1998 and 2022: WLD\n"
     ]
    }
   ],
   "source": [
    "sheep_consumption_between_1998_2022 = df[(df['SUBJECT'] == 'SHEEP') & (df['TIME'] >= 1998) & (df['TIME'] <= 2022)]\n",
    "max_sheep_consumption_country = sheep_consumption_between_1998_2022.groupby('LOCATION')['Value'].sum().idxmax()\n",
    "print(\"Country with max total consumption of SHEEP meat between 1998 and 2022:\", max_sheep_consumption_country)\n"
   ]
  },
  {
   "cell_type": "markdown",
   "metadata": {},
   "source": [
    "Step 5: Export the raw data imported in CSV to an Excel format"
   ]
  },
  {
   "cell_type": "code",
   "execution_count": 6,
   "metadata": {},
   "outputs": [
    {
     "name": "stdout",
     "output_type": "stream",
     "text": [
      "Data exported to Excel successfully.\n"
     ]
    }
   ],
   "source": [
    "output_file = \"meat_consumption_data.xlsx\" \n",
    "df.to_excel(output_file, index=False)\n",
    "print(\"Data exported to Excel successfully.\")\n"
   ]
  }
 ],
 "metadata": {
  "kernelspec": {
   "display_name": "Python 3",
   "language": "python",
   "name": "python3"
  },
  "language_info": {
   "codemirror_mode": {
    "name": "ipython",
    "version": 3
   },
   "file_extension": ".py",
   "mimetype": "text/x-python",
   "name": "python",
   "nbconvert_exporter": "python",
   "pygments_lexer": "ipython3",
   "version": "3.9.6"
  },
  "orig_nbformat": 4
 },
 "nbformat": 4,
 "nbformat_minor": 2
}
